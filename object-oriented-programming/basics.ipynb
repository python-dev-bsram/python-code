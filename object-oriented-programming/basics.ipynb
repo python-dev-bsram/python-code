{
 "cells": [
  {
   "cell_type": "markdown",
   "metadata": {},
   "source": [
    "#### What is OOP?\n",
    "\n",
    "OOP stands for Object-Oriented Programming. It helps in organizing code so it can be easily scaled and maintained by creating objects. An object is just an instance of a class, The class defines what data (attributes) and actions (methods) the object will have.\n",
    "\n",
    "- Attributes are variables that hold data related to the object, and we can access them using a dot (.).\n",
    "- Methods are functions inside the class that define what the object can do.\n",
    "- Properties are a way to control how we get or set the values of attributes, often with some extra logic added."
   ]
  },
  {
   "cell_type": "code",
   "execution_count": 31,
   "metadata": {},
   "outputs": [],
   "source": [
    "# syntax of creating class and object\n",
    "\n",
    "class Example: # creating the class \n",
    "    pass \n",
    "\n",
    "Object = Example() # Initializing the object"
   ]
  },
  {
   "cell_type": "markdown",
   "metadata": {},
   "source": [
    "Example of how to create the Attributes, Methods and and properties. Lets take the  `Smartphone`  as example where it associated with the `characteristics`(attriutes) like `brand`,`model`,`_battery_level` and can have `actions` like `call`, `capture_photo` as methods. As we make the call generally the charging will be decreased thats where need to update `_battery_level` (property). \n"
   ]
  },
  {
   "cell_type": "markdown",
   "metadata": {},
   "source": [
    "##### creating the attributes"
   ]
  },
  {
   "cell_type": "code",
   "execution_count": 32,
   "metadata": {},
   "outputs": [],
   "source": [
    "class SmartPhoneAttributtes:\n",
    "\n",
    "    # Attributes of the smart phone\n",
    "    def __init__(self, brand, model):\n",
    "        self.brand = brand \n",
    "        self.model = model \n",
    "        self._battery_level = 100"
   ]
  },
  {
   "cell_type": "markdown",
   "metadata": {},
   "source": [
    "##### Defining the Methods."
   ]
  },
  {
   "cell_type": "code",
   "execution_count": 33,
   "metadata": {},
   "outputs": [],
   "source": [
    "class SmartPhoneMethods(SmartPhoneAttributtes):\n",
    "\n",
    "    # functions of smart phone\n",
    "    def call(self, number):\n",
    "\n",
    "        self._battery_level -= 5 # Making a call reduces the battery level\n",
    "        return f\"Calling to {number}, from {self.model}\"\n",
    "    \n",
    "    def take_photo(self):  # Method\n",
    "\n",
    "        self._battery_level -= 0.05  # Taking a photo reduces the battery level\n",
    "        return f\"Taking a photo with {self.model}\""
   ]
  },
  {
   "cell_type": "markdown",
   "metadata": {},
   "source": [
    "##### Set the Property"
   ]
  },
  {
   "cell_type": "code",
   "execution_count": 34,
   "metadata": {},
   "outputs": [],
   "source": [
    "class SmartPhoneProperties(SmartPhoneMethods):\n",
    "\n",
    "    @property\n",
    "    def battery_level(self):  #property\n",
    "        return self._battery_level  # Gets the current battery level"
   ]
  },
  {
   "cell_type": "code",
   "execution_count": 35,
   "metadata": {},
   "outputs": [
    {
     "data": {
      "text/plain": [
       "95"
      ]
     },
     "execution_count": 35,
     "metadata": {},
     "output_type": "execute_result"
    }
   ],
   "source": [
    "# Example of usage:\n",
    "\n",
    "phone = SmartPhoneProperties(\"LAVA\",\"Agni 2\")  # SmartPhoneProperties --> SmartPhoneMethods --> SmartPhoneAttributtes\n",
    "phone.brand # Accessing an attribute (Output: LAVA)\n",
    "phone.call(\"123-456-7890\") # Calling a method (Output: Calling to 123-456-7890, from Agni 2)\n",
    "phone.battery_level # Using a property to access battery level (Output: 95)"
   ]
  },
  {
   "cell_type": "markdown",
   "metadata": {},
   "source": [
    "##### Another way of organizing code"
   ]
  },
  {
   "cell_type": "code",
   "execution_count": 36,
   "metadata": {},
   "outputs": [],
   "source": [
    "class SmartPhone:\n",
    "\n",
    "    # Attributes of the smart phone\n",
    "    def __init__(self, brand, model):\n",
    "        self.brand = brand \n",
    "        self.model = model \n",
    "        self._battery_level = 100\n",
    "\n",
    "    # functions of smart phone\n",
    "    def call(self, number):\n",
    "\n",
    "        self._battery_level -= 5 # Making a call reduces the battery level\n",
    "        return f\"Calling to {number}, from {self.model}\"\n",
    "    \n",
    "    def take_photo(self):  # Method\n",
    "\n",
    "        self._battery_level -= 0.05  # Taking a photo reduces the battery level\n",
    "        return f\"Taking a photo with {self.model}\"\n",
    "    \n",
    "    @property\n",
    "    def battery_level(self):  #property\n",
    "        return self._battery_level  # Gets the current battery level\n"
   ]
  },
  {
   "cell_type": "code",
   "execution_count": 37,
   "metadata": {},
   "outputs": [
    {
     "data": {
      "text/plain": [
       "95"
      ]
     },
     "execution_count": 37,
     "metadata": {},
     "output_type": "execute_result"
    }
   ],
   "source": [
    "# Example of usage:\n",
    "\n",
    "phone = SmartPhone(\"LAVA\",\"Agni 2\")  \n",
    "phone.brand # Accessing an attribute (Output: LAVA)\n",
    "phone.call(\"123-456-7890\") # Calling a method (Output: Calling to 123-456-7890, from Agni 2)\n",
    "phone.battery_level # Using a property to access battery level (Output: 95)"
   ]
  },
  {
   "cell_type": "markdown",
   "metadata": {},
   "source": [
    "#### How OOP is different from Procedural Programming ?"
   ]
  },
  {
   "cell_type": "markdown",
   "metadata": {},
   "source": [
    "| Aspect                | Procedural Programming                                                                                     | OOP                                                                                   |\n",
    "|-----------------------|------------------------------------------------------------------------------------------------------------|---------------------------------------------------------------------------------------|\n",
    "| **Organization**      | Code is written as a series of steps or functions. It focuses on what actions to perform.                  | Code is grouped into classes and objects, focusing on things (data) and what they do (methods). |\n",
    "| **Reusability**       | Functions can be reused, but it's hard to manage data across them, and it can lead to repeated code.       | Classes can be reused, and inheritance allows you to share code without repeating it. |\n",
    "| **Data and Functions**| Data and functions are separate, and you have to pass data to different functions to work on it.           | Data (attributes) and functions (methods) are combined inside objects, making the code easier to manage and update. |\n",
    "| **State Management**  | Data is often stored in global variables, which can cause problems if different parts of the code change it. | Each object keeps track of its own data, making it easier to manage without conflicts. |\n",
    "| **Scalability**       | As the code gets bigger, it becomes harder to manage and maintain because functions can depend on each other. | Classes and objects help divide the program into smaller parts, making it easier to grow and maintain. |\n"
   ]
  },
  {
   "cell_type": "code",
   "execution_count": 38,
   "metadata": {},
   "outputs": [],
   "source": [
    "# Procedural Programming\n",
    "\n",
    "# Global variable to store account balance\n",
    "account_balance = 0\n",
    "\n",
    "def deposit(amount):\n",
    "    global account_balance\n",
    "    account_balance += amount\n",
    "    return(f\"Deposited: ${amount}. New balance: ${account_balance}\")\n",
    "\n",
    "def withdraw(amount):\n",
    "    global account_balance\n",
    "    if amount <= account_balance:\n",
    "        account_balance -= amount\n",
    "        return(f\"Withdrew: ${amount}. New balance: ${account_balance}\")\n",
    "    else:\n",
    "        return(\"Insufficient funds\")\n"
   ]
  },
  {
   "cell_type": "code",
   "execution_count": 39,
   "metadata": {},
   "outputs": [],
   "source": [
    "# Object-Oriented Programming\n",
    "\n",
    "class BankAccount:\n",
    "    \n",
    "    def __init__(self):\n",
    "        self.balance = 0  # Instance variable for account balance\n",
    "\n",
    "    def deposit(self, amount):\n",
    "        self.balance += amount\n",
    "        return(f\"Deposited: ${amount}. New balance: ${self.balance}\")\n",
    "\n",
    "    def withdraw(self, amount):\n",
    "        if amount <= self.balance:\n",
    "            self.balance -= amount\n",
    "            return(f\"Withdrew: ${amount}. New balance: ${self.balance}\")\n",
    "        else:\n",
    "            return(\"Insufficient funds\")"
   ]
  },
  {
   "cell_type": "markdown",
   "metadata": {},
   "source": [
    "#### Differences between Instance Variables and Class Variables"
   ]
  },
  {
   "cell_type": "markdown",
   "metadata": {},
   "source": [
    "- Instance Variables:\n",
    "    - This varaibles are belongs to object of class attributes. Can access inside and outside of the class. Each Object can have seperate instance varaibles. This are constructed using the `__init__` constructor\n",
    "    - They are usually defined inside the `__init__` method using the self keyword.\n",
    "    - Used to store data specific to a particular instance of a class.\n",
    "  \n",
    "- class Variables:\n",
    "    - These are variables that belong to the class itself. All instances of the class share the same value for class variables.\n",
    "    - They are defined inside the class but outside to class methods.\n",
    "    -  Used to store data that should be shared across all instances of the class."
   ]
  },
  {
   "cell_type": "markdown",
   "metadata": {},
   "source": [
    "How to Create Instance Variables: \n",
    "\n",
    "In the DataPipeline class, the instance variables are name, source, and destination. They are defined inside the __init__ method with self, which means each object of the class will have its own values for these variables."
   ]
  },
  {
   "cell_type": "code",
   "execution_count": 3,
   "metadata": {},
   "outputs": [],
   "source": [
    "class DataPipeline:\n",
    "    \n",
    "    def __init__(self, name, source, destination): \n",
    "        self.name = name               # Instance variable for the name of the pipeline\n",
    "        self.source = source           # Instance variable for the data source\n",
    "        self.destination = destination # Instance variable for the data destination"
   ]
  },
  {
   "cell_type": "markdown",
   "metadata": {},
   "source": [
    "How to Create Class Variable?\n",
    "\n",
    "In the `DataPipeline` class, the class variable is `total_pipelines`. It is defined outside of the methods, directly in the class, and is shared by all objects of the class."
   ]
  },
  {
   "cell_type": "code",
   "execution_count": 4,
   "metadata": {},
   "outputs": [],
   "source": [
    "class DataPipeline:\n",
    "\n",
    "    total_pipelines = 0  # Class variable to count the number of pipelines\n"
   ]
  },
  {
   "cell_type": "markdown",
   "metadata": {},
   "source": [
    "Full Example"
   ]
  },
  {
   "cell_type": "code",
   "execution_count": 4,
   "metadata": {},
   "outputs": [],
   "source": [
    "class DataPipeline:\n",
    "    # Class variable to count the number of DataPipeline instances\n",
    "    total_pipelines = 0\n",
    "\n",
    "    def __init__(self, name, source, destination):\n",
    "        # Instance variables\n",
    "        self.name = name          # Name of the pipeline\n",
    "        self.source = source      # Data source (e.g., database, API)\n",
    "        self.destination = destination  # Destination for processed data\n",
    "\n",
    "        # Increment the total pipeline count each time a new instance is created\n",
    "        DataPipeline.total_pipelines += 1\n",
    "\n"
   ]
  },
  {
   "cell_type": "code",
   "execution_count": 5,
   "metadata": {},
   "outputs": [
    {
     "name": "stdout",
     "output_type": "stream",
     "text": [
      "Total Data Pipelines Created: 2\n"
     ]
    }
   ],
   "source": [
    "# Creating instances of DataPipeline\n",
    "pipeline1 = DataPipeline(\"Pipeline1\", \"Database\", \"Data Warehouse\")\n",
    "pipeline2 = DataPipeline(\"Pipeline2\", \"API\", \"Data Lake\")\n",
    "\n",
    "# Displaying the total number of pipelines created\n",
    "print(f\"Total Data Pipelines Created: {DataPipeline.total_pipelines}\")"
   ]
  },
  {
   "cell_type": "markdown",
   "metadata": {},
   "source": [
    "#### What is parameterized and Non-parameterized constructors?"
   ]
  },
  {
   "cell_type": "markdown",
   "metadata": {},
   "source": [
    "Constructors are functions used to setup the intitial state of objects.This are constructued using `__init__()` method. \n",
    "\n",
    "1. Parameterized constructor takes areguments so that object can be created with specific values.\n",
    "   \n",
    "   ```python\n",
    "   class Paramterized:\n",
    "    def __init__(self, name, age):\n",
    "        self.name = name\n",
    "        self.age = age\n",
    "\n",
    "    def display(self):\n",
    "        print(f\"Name: {self.name}, Age: {self.age}\")\n",
    "   ```\n",
    "\n",
    "   ```python\n",
    "   object = Paramterized\"Ram\", 20)\n",
    "   object.display() # Output: Name: Ram, Age: 20\n",
    "   ```\n",
    "   \n",
    "2. Non-Parameterized constructor doesnt require arguments. It takes the default values while initialzing the Object.\n",
    "    ```python\n",
    "    class NonPrameterized:\n",
    "       def __init__(self):\n",
    "           self.name = \"Unknown\"\n",
    "           self.age = 0\n",
    "\n",
    "       def display(self):\n",
    "           print(f\"Name: {self.name}, Age: {self.age}\")\n",
    "    ```\n",
    "\n",
    "    ```python\n",
    "   object = NonPrameterized()\n",
    "   object.display()  # Output: Name: Unknown, Age: 0\n",
    "    ```"
   ]
  }
 ],
 "metadata": {
  "kernelspec": {
   "display_name": "Python 3",
   "language": "python",
   "name": "python3"
  },
  "language_info": {
   "codemirror_mode": {
    "name": "ipython",
    "version": 3
   },
   "file_extension": ".py",
   "mimetype": "text/x-python",
   "name": "python",
   "nbconvert_exporter": "python",
   "pygments_lexer": "ipython3",
   "version": "3.9.6"
  }
 },
 "nbformat": 4,
 "nbformat_minor": 2
}
