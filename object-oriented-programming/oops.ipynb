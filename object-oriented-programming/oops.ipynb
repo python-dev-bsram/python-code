{
 "cells": [
  {
   "cell_type": "markdown",
   "metadata": {},
   "source": [
    "#### Abstraction : <br>\n",
    "It is hiding the implimentation of the methods , provides necessary function to use it in another classes.In python abstraction is not there by default so it has to imported from the ABC class\n",
    "\n"
   ]
  },
  {
   "cell_type": "code",
   "execution_count": 2,
   "metadata": {},
   "outputs": [],
   "source": [
    "from abc import ABC, abstractmethod\n",
    "\n",
    "\n",
    "class FoodOrder(ABC):\n",
    "\n",
    "    def __init__(\n",
    "        self,\n",
    "        food_type,\n",
    "        item_order,\n",
    "        mobile_number,\n",
    "        type_of_delivery,\n",
    "        location_name,\n",
    "        orginal_price,\n",
    "    ):\n",
    "        self.FT = food_type\n",
    "        self.IO = item_order\n",
    "        self.MN = mobile_number\n",
    "        self.TOD = type_of_delivery\n",
    "        self.LD = location_name\n",
    "        self.OP = orginal_price\n",
    "\n",
    "    def thanks_msg(self):\n",
    "        return {\"Convey Message\": \"Thanks for Ordering the Food in Dominos\"}\n",
    "\n",
    "    def location_distance(self):\n",
    "        if self.LD == \"dalas\" or self.LD == \"new york\":\n",
    "            distance_cost = 3  # dollars\n",
    "        elif self.LD == \"texas\" or self.LD == \"houston\":\n",
    "            distance_cost = 5\n",
    "        else:\n",
    "            distance_cost = 10\n",
    "        return distance_cost\n",
    "\n",
    "    def no_of_items(self):\n",
    "        return {\"ITEMS ORDERED\": self.IO}\n",
    "\n",
    "    def type_of_restaurent(self):\n",
    "        return {\"RESTAURENT TYPE\": \"Dine In and Take Away\"}\n",
    "\n",
    "    def delivery_type(self):\n",
    "        if \"Door\" in self.TOD:\n",
    "            Instructions = {\n",
    "                \"Delivery Instructions\": f\" Type of Delivery {self.TOD} please ring the bell after arrival at door\"\n",
    "            }\n",
    "        elif \"Call\" in self.TOD:\n",
    "            Instructions = {\n",
    "                \"Delivery Instructions\": f\" Type of Delivery {self.TOD} please make a call after arrival at location\"\n",
    "            }\n",
    "\n",
    "        return Instructions\n",
    "\n",
    "    @abstractmethod\n",
    "    def delivery_cost(self):\n",
    "        pass"
   ]
  },
  {
   "cell_type": "code",
   "execution_count": 3,
   "metadata": {},
   "outputs": [],
   "source": [
    "class FoodRestaurents(FoodOrder):\n",
    "\n",
    "    def delivery_cost(self):\n",
    "        discount_price = self.OP -(self.OP * self.IO / 100)  + FoodOrder.location_distance(self)\n",
    "        return {\"Total price\": discount_price}\n",
    "    \n",
    "    def delivery_bill(self):\n",
    "        return {**FoodOrder.thanks_msg(self) , **FoodRestaurents.delivery_cost(self), ** FoodOrder.type_of_restaurent(self) ,**FoodOrder.delivery_type(self)}"
   ]
  },
  {
   "cell_type": "code",
   "execution_count": 6,
   "metadata": {},
   "outputs": [
    {
     "data": {
      "text/plain": [
       "{'Convey Message': 'Thanks for Ordering the Food in Dominos',\n",
       " 'Total price': 12.6,\n",
       " 'RESTAURENT TYPE': 'Dine In and Take Away',\n",
       " 'Delivery Instructions': ' Type of Delivery Door please ring the bell after arrival at door'}"
      ]
     },
     "execution_count": 6,
     "metadata": {},
     "output_type": "execute_result"
    }
   ],
   "source": [
    "\n",
    "\n",
    "dalas_order = FoodRestaurents(\"VEG\", 4 ,\"8309764179\",\"Door\", \"dalas\", 10)\n",
    "bill = dalas_order.delivery_bill()\n",
    "bill"
   ]
  },
  {
   "cell_type": "markdown",
   "metadata": {},
   "source": [
    "#### Encapsulation:<br>\n",
    "It is binding the data and methods inside the class , where it can be the protect the methods by not allowing directly to modify the object . Encapsulation can be assoicated with public, private and protect methods.\n",
    "<br>\n",
    "syntax\n",
    "1 .__sum  # private\n",
    "2 ._sum   # protect\n",
    "3 . sum    # public\n",
    "\n",
    "1. def __sum()\n",
    "2. def _sum()\n",
    "3. def sum()\n",
    "<br>\n",
    "constructor : it is used to creste new instace varaible which can only used inside the class . __init__ method"
   ]
  },
  {
   "cell_type": "code",
   "execution_count": null,
   "metadata": {},
   "outputs": [],
   "source": [
    "\n",
    "\n",
    "class Payments:\n",
    "    \n",
    "    def __init__(self,mobile_number ,upi_id ,bank ,account ,amount , card_number):\n",
    "        self.__mobile_number = mobile_number\n",
    "        self._upi_id = upi_id\n",
    "        self.bank =  bank \n",
    "        self.account = account\n",
    "        self.amount = amount \n",
    "        self.__card_number = card_number\n",
    "\n",
    "    def __mask_card_number(self):  # private method\n",
    "        mcn = self.__card_number[-4:].rjust(len(self.__card_number) , 'X')\n",
    "        # example of card\n",
    "        # 1234 6789 0122\n",
    "        # XXXX XXXX 0122\n",
    "        return mcn \n",
    "    \n",
    "    def __generate_upi_id(self):\n",
    "        # 613-123-432\n",
    "        # 613-123-432@hdfc\n",
    "        gui = self._upi_id + \"@hdfc.com\"\n",
    "        return gui\n",
    "\n",
    "    def __mask_mobile_number(self):\n",
    "        # 613-123-432\n",
    "        # MMM-M23-432\n",
    "        mmn = self.__mobile_number[4:].ljust(len(self.__card_number) , 'M')\n",
    "        return mmn \n",
    "    \n",
    "    def payment_details(self):\n",
    "        details = {\n",
    "            'Mobile Number' : self.__mask_mobile_number() , \n",
    "            'UPI ID':self.__generate_upi_id() ,\n",
    "            'Bank':self.bank,\n",
    "            'a/c':self.account,\n",
    "            'CARD NUMBER':self.__mask_card_number(),\n",
    "            'amount paid':self.amount\n",
    "        }\n",
    "\n",
    "        return details\n",
    "    \n",
    "    \n",
    "    \n",
    "\n",
    "    "
   ]
  },
  {
   "cell_type": "code",
   "execution_count": null,
   "metadata": {},
   "outputs": [],
   "source": [
    "payment1 = Payments(\"613-213-3456\", \"613-213-3456\" ,\"HDFC\",\"213456789\", \"50 $\",\"1234 5678 9123\")\n",
    "payment1.payment_details()"
   ]
  },
  {
   "cell_type": "markdown",
   "metadata": {},
   "source": [
    "##### Inheritance\n",
    "\n",
    "- It inherits the attributes and methods from the another classes , the class that is inherited is called super class and class which inherits is called sub class, its all about relation between parent and child\n",
    "\n",
    "Types of inheritance:\n",
    "\n",
    "- single level inheritance\n",
    "- Multilevel inheritance\n",
    "- Multiple inheritance\n",
    "- Hierarchical  inheritance"
   ]
  },
  {
   "cell_type": "markdown",
   "metadata": {},
   "source": [
    "##### single level inheritance"
   ]
  },
  {
   "cell_type": "code",
   "execution_count": 7,
   "metadata": {},
   "outputs": [],
   "source": [
    "# User name , User ID, password , Mobile Number , PAN CARD , Aadhar Card , Nominee , acsid\n",
    "\n",
    "class LoginNetbanking(object):\n",
    "\n",
    "    def __init__(self , username ,user_id, password ,mobile_number , pan_card , aadhar_card , nominee , acsid):\n",
    "        \n",
    "        self.username =  username\n",
    "        self.user_id =  user_id\n",
    "        self.password = password \n",
    "        self.mobile_number =  mobile_number\n",
    "        self.pan_card = pan_card\n",
    "        self.aadhar_card = aadhar_card \n",
    "        self.nominee =  nominee\n",
    "        self.acsid = acsid\n",
    "\n",
    "    \n",
    "    def login_details(self):\n",
    "        return {\n",
    "            \"Name\" : self.username,\n",
    "            \"SID\"  : self.acsid\n",
    "        }\n",
    "    \n",
    "    def account_holder_details(self):\n",
    "        # logic here\n",
    "        acc_statment = {\n",
    "            \"Name\" : self.username,\n",
    "            \"Mobile Number\" : self.mobile_number ,\n",
    "            \"Nominee\" : self.nominee ,\n",
    "            \"Aadhar Number\" : self.aadhar_card\n",
    "        }\n",
    "        return acc_statment \n",
    "    \n",
    "\n",
    "\n"
   ]
  },
  {
   "cell_type": "code",
   "execution_count": 8,
   "metadata": {},
   "outputs": [
    {
     "name": "stdout",
     "output_type": "stream",
     "text": [
      "{\"Name\": \"sairam\", \"Mobile Number\": 9949976212, \"Nominee\": \"NOMINEE\", \"Aadhar Number\": \"1234 5678 9876 5432\", \"ACCOUNT STATEMENT\": [{\"Date\": \"1-Jan\", \"TransactionID\": 1234, \"TransactionAmount\": \"$40\", \"Typeoftransaction\": \"netbanking\"}, {\"Date\": \"2-Jan\", \"TransactionID\": 4567, \"TransactionAmount\": \"$30\", \"Typeoftransaction\": \"upi\"}]}\n",
      "{'Name': 'sairam', 'Mobile Number': 9949976212, 'Nominee': 'NOMINEE', 'Aadhar Number': '1234 5678 9876 5432'}\n"
     ]
    }
   ],
   "source": [
    "import json\n",
    "import pandas as pd\n",
    "\n",
    "class AccountStatement(LoginNetbanking):\n",
    "\n",
    "    # def __init__(self) -> None:\n",
    "    #     pass\n",
    "\n",
    "    def __init__(self, username, user_id, password, mobile_number, pan_card, aadhar_card, nominee, acsid ,sid):\n",
    "        LoginNetbanking.__init__(self,username, user_id, password, mobile_number, pan_card, aadhar_card, nominee, acsid )\n",
    "        self.sid = sid\n",
    "        \n",
    "\n",
    "\n",
    "    def account_details(self):\n",
    "        if LoginNetbanking.login_details(self)[\"SID\"] == self.sid :\n",
    "            \n",
    "            # print(True)\n",
    "            user_statement_data = pd.read_csv(r\"statement.csv\")\n",
    "            user_statement_data[\"Date\"]=eval(str(list(user_statement_data[\"Date\"])).replace(\"/\",\"-\"))\n",
    "            # user_statement_data[\"Value Dt\"] = eval(user_statement_data(list(user_statement_data[\"Value Dt\"])).replace(\"/\",\"-\"))\n",
    "            statement_details = json.loads(user_statement_data.to_json(orient=\"records\"))\n",
    "            # print(statement_details)\n",
    "            statement_details = {\"ACCOUNT STATEMENT\":statement_details}\n",
    "        else:\n",
    "            statement_details = {\"Error\":\"check the password\"}\n",
    "            \n",
    "        ad = json.dumps({\n",
    "            **LoginNetbanking.account_holder_details(self),\n",
    "            **statement_details}\n",
    "        )\n",
    "\n",
    "        return ad\n",
    "\n",
    "a_s = AccountStatement(\"sairam\",123452,\"password\",9949976212,\"ACSDF1234\",\"1234 5678 9876 5432\",\"NOMINEE\",1234,1234 )\n",
    "\n",
    "print(a_s.account_details())\n",
    "\n",
    "print(a_s.account_holder_details())\n"
   ]
  },
  {
   "cell_type": "markdown",
   "metadata": {},
   "source": [
    "##### Multilevel inheritance"
   ]
  },
  {
   "cell_type": "code",
   "execution_count": 1,
   "metadata": {},
   "outputs": [],
   "source": [
    "# super class\n",
    "class Company(object):\n",
    "    \n",
    "    # def __init__(self,company_name , No_of_employess):\n",
    "    #     self.company_name = company_name\n",
    "    #     self.No_of_employees = No_of_employess \n",
    "\n",
    "    def company_details(self):\n",
    "        return {\n",
    "            \"Name of Organization\" : \"Amazon\",\n",
    "            \"Number of Employees\"  : \"2500-3000\"\n",
    "        }"
   ]
  },
  {
   "cell_type": "code",
   "execution_count": 2,
   "metadata": {},
   "outputs": [],
   "source": [
    "# sub class 1\n",
    "class Designations(Company):\n",
    "\n",
    "    def __init__(self,employee_des,salaries):\n",
    "        self.employee_des =employee_des\n",
    "        self.salaries = salaries\n",
    "\n",
    "\n",
    "    def salary_details(self):\n",
    "        return {\n",
    "            **Company.company_details(self),\n",
    "            \"Levels of Designations\":self.employee_des,\n",
    "            \"Salary_range\":self.salaries\n",
    "        }\n",
    "\n",
    "    pass"
   ]
  },
  {
   "cell_type": "code",
   "execution_count": 3,
   "metadata": {},
   "outputs": [],
   "source": [
    "# sub class 2\n",
    "class CompanyDetails(Designations):\n",
    "\n",
    "    def __init__(self, employee_des, salaries):\n",
    "        super().__init__(employee_des, salaries)\n",
    "\n"
   ]
  },
  {
   "cell_type": "code",
   "execution_count": 5,
   "metadata": {},
   "outputs": [
    {
     "data": {
      "text/plain": [
       "{'Name of Organization': 'Amazon',\n",
       " 'Number of Employees': '2500-3000',\n",
       " 'Levels of Designations': ['Data Engineer', ' Team Leade', 'Data scientits'],\n",
       " 'Salary_range': '15-25 LPA'}"
      ]
     },
     "execution_count": 5,
     "metadata": {},
     "output_type": "execute_result"
    }
   ],
   "source": [
    "recruitment_1 =  CompanyDetails(['Data Engineer' ,' Team Leade' , 'Data scientits'] , '15-25 LPA')\n",
    "\n",
    "recruitment_1.salary_details()"
   ]
  },
  {
   "cell_type": "code",
   "execution_count": 6,
   "metadata": {},
   "outputs": [
    {
     "data": {
      "text/plain": [
       "{'Name of Organization': 'Amazon', 'Number of Employees': '2500-3000'}"
      ]
     },
     "execution_count": 6,
     "metadata": {},
     "output_type": "execute_result"
    }
   ],
   "source": [
    "recruitment_1.company_details() "
   ]
  },
  {
   "cell_type": "markdown",
   "metadata": {},
   "source": [
    "#### Multiple inheritance"
   ]
  },
  {
   "cell_type": "code",
   "execution_count": 1,
   "metadata": {},
   "outputs": [
    {
     "name": "stdout",
     "output_type": "stream",
     "text": [
      "{'Arrival': 'Texas', 'Departure': 'New York', 'Train Insurance': 'YES', 'Tier': ' 3 Tier AC', 'TICKET CONFIRMATION': ' NO ', 'WL': ' WL/25 ', 'CANCELLATION STATUS': ' NO '}\n"
     ]
    }
   ],
   "source": [
    "class BookTrainTickets:\n",
    "\n",
    "    def __init__(self,From,to,insurance,Tier):\n",
    "        self.From = From\n",
    "        self.to = to\n",
    "        self.insurance = insurance\n",
    "        self.Tier = Tier\n",
    "\n",
    "\n",
    "    def destination(self):\n",
    "        # print(self.to)\n",
    "        dest_list = {\"Arrival\":self.From,\"Departure\":self.to,\"Train Insurance\":self.insurance,\"Tier\":self.Tier}\n",
    "        return dest_list\n",
    "\n",
    "\n",
    "class TrackingStatus:\n",
    "\n",
    "    def __init__(self,ticket_confirmation,waiting_list,cancellation_status):\n",
    "        self.ticket_confirmation = ticket_confirmation\n",
    "        self.waiting_list =waiting_list\n",
    "        self.cancellation_status =cancellation_status\n",
    "\n",
    "    def ticketconfirmstatus(self):\n",
    "        tcl = {\"TICKET CONFIRMATION\":self.ticket_confirmation,\"WL\":self.waiting_list,\"CANCELLATION STATUS\":self.cancellation_status}\n",
    "        return tcl \n",
    "\n",
    "class MyBooking(BookTrainTickets,TrackingStatus):\n",
    "\n",
    "    def __init__(self, From, to, insurance, Tier,ticket_confirmation,waiting_list,cancellation_status):\n",
    "        BookTrainTickets.__init__(self,From, to, insurance, Tier)\n",
    "        TrackingStatus.__init__(self,ticket_confirmation,waiting_list,cancellation_status)\n",
    "\n",
    "    def booking_details(self):\n",
    "        bd = {**BookTrainTickets.destination(self),**TrackingStatus.ticketconfirmstatus(self)}\n",
    "        return bd\n",
    "\n",
    "    \n",
    "\n",
    "mb = MyBooking(\"Texas\", \"New York\",\"YES\",\" 3 Tier AC\",\" NO \",\" WL/25 \",\" NO \")\n",
    "print(mb.booking_details())"
   ]
  },
  {
   "cell_type": "markdown",
   "metadata": {},
   "source": [
    "#### Hirerarchial Inheritance"
   ]
  },
  {
   "cell_type": "code",
   "execution_count": 6,
   "metadata": {},
   "outputs": [
    {
     "name": "stdout",
     "output_type": "stream",
     "text": [
      "{'workers': 35}\n",
      "{'No of Workers': 35}\n",
      "{'No of Workers': 35}\n",
      "{'workers': 35}\n"
     ]
    }
   ],
   "source": [
    "class Library:\n",
    "    def __init__(self,no_of_book,no_of_departments,paid_library,no_of_workers):\n",
    "        self.no_of_book = no_of_book\n",
    "        self.no_of_departments = no_of_departments\n",
    "        self.paid_library = paid_library\n",
    "        self.no_of_workers = no_of_workers\n",
    "\n",
    "    def lib_worker_details(self):\n",
    "        return {\"workers\":self.no_of_workers}\n",
    "    \n",
    "    def lib_no_departments(self):\n",
    "        return {\"No of Workers\":self.no_of_workers}\n",
    "\n",
    "\n",
    "class A(Library):\n",
    "    def __init__(self, no_of_book, no_of_departments, paid_library, no_of_workers):\n",
    "        super().__init__(no_of_book, no_of_departments, paid_library, no_of_workers)\n",
    "\n",
    "    \n",
    "class B(Library):\n",
    "    def __init__(self, no_of_book, no_of_departments, paid_library, no_of_workers):\n",
    "        super().__init__(no_of_book, no_of_departments, paid_library, no_of_workers)\n",
    "\n",
    "    \n",
    "a1 =  A(1000 , 5 ,\"YES\", 35 )\n",
    "print(a1.lib_worker_details())\n",
    "print(a1.lib_no_departments())\n",
    "\n",
    "b1 = B(1000 , 5 ,\"YES\", 35 )\n",
    "print(b1.lib_no_departments())\n",
    "print(b1.lib_worker_details())"
   ]
  },
  {
   "cell_type": "markdown",
   "metadata": {},
   "source": [
    "### Polymorphism : \n",
    "It allow objects should be trated as same methods but different class. This can be achieved by the methods overloading and method over riding.\n",
    "\n",
    "1. Method overloading : Objecs have the same methods but holding the different paramter or arguments.\n",
    "2. Method over riding : Methods which have already defined in the superclass but same method implemented in the sub class in the case it super class can be over ride by sub class"
   ]
  },
  {
   "cell_type": "code",
   "execution_count": 16,
   "metadata": {},
   "outputs": [
    {
     "data": {
      "text/plain": [
       "'tweet'"
      ]
     },
     "execution_count": 16,
     "metadata": {},
     "output_type": "execute_result"
    }
   ],
   "source": [
    "class Animal:\n",
    "    def speak(self):\n",
    "        pass \n",
    "\n",
    "class Dog(Animal):\n",
    "\n",
    "    def speak(self):\n",
    "        return \"bark\"\n",
    "    \n",
    "class Bird(Animal):\n",
    "\n",
    "    def speak(self):\n",
    "        return \"tweet\"\n",
    "    \n",
    "\n",
    "def Animal_sound(animal):\n",
    "    return animal.speak()\n",
    "\n",
    "\n",
    "dog =  Dog()\n",
    "bird = Bird()\n",
    "\n",
    "Animal_sound(dog)\n",
    "Animal_sound(bird)\n",
    "\n"
   ]
  }
 ],
 "metadata": {
  "kernelspec": {
   "display_name": "Python 3",
   "language": "python",
   "name": "python3"
  },
  "language_info": {
   "codemirror_mode": {
    "name": "ipython",
    "version": 3
   },
   "file_extension": ".py",
   "mimetype": "text/x-python",
   "name": "python",
   "nbconvert_exporter": "python",
   "pygments_lexer": "ipython3",
   "version": "3.undefined.undefined"
  }
 },
 "nbformat": 4,
 "nbformat_minor": 2
}
