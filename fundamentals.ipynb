{
 "cells": [
  {
   "cell_type": "markdown",
   "metadata": {},
   "source": [
    "NoteBook Author : Ram ,\n",
    "Email id : bsram1625@gmail.com"
   ]
  },
  {
   "cell_type": "markdown",
   "metadata": {},
   "source": [
    "This notebook provides a comprehensive overview of essential Python concepts, enabling developers to build a solid foundation in programming\n",
    "\n",
    "1. Identifiers\n",
    "2. Datatypes , Data Structure.\n",
    "3. Loops\n",
    "4. Python operators\n",
    "5. List Methods.\n",
    "6. Type conversions\n",
    "7. Shallow copy vs Deep Copy.\n",
    "8. String formatting"
   ]
  },
  {
   "cell_type": "markdown",
   "metadata": {},
   "source": [
    "#### IDENTIFIERS"
   ]
  },
  {
   "cell_type": "markdown",
   "metadata": {},
   "source": [
    "* __Identifiers__ are user-defined variables,functions,class....these are generally used to assign the expression or values to the variables.\n",
    " * Rules of identifiers.\n",
    "  1. Identifiers are case sensitive.\n",
    "  2. Identifiers can be combination of lower[a-z], upper case[A-Z],     numbers[0-9]or underscoe'-'\n",
    "  3. It sould not start with any special characters[!,#....]\n",
    "  4. It should not start with digits.\n",
    "  5. Keywords should not be identifiers\n"
   ]
  },
  {
   "cell_type": "code",
   "execution_count": 128,
   "metadata": {},
   "outputs": [],
   "source": [
    "# Identifiers are case sensitive\n",
    "variable=5\n",
    "Variable=10\n",
    "\n",
    "# Identifiers can be combination of lower[a-z], upper case[A-Z],numbers[0-9] or underscoe'-'\n",
    "Varible=\"python\"\n",
    "VARIABLES='python'\n",
    "variable_IDENTIFIERS='python'\n",
    "varable_123='python'\n",
    "VaRIABle='pyhton'\n",
    "\n",
    "# It sould not should not contain or start with any special characters[!,#,@....]\n",
    "# @variable='python'\n",
    "\n",
    "\n",
    "# V@raible= 'python'\n",
    "\n",
    "# It should not start with digits\n",
    "# variable1= 'python'\n",
    "\n",
    "#  Keywords should not be identifiers\n",
    "# True ='python'"
   ]
  },
  {
   "cell_type": "markdown",
   "metadata": {},
   "source": [
    "### __Data Types__\n",
    "* Data types says which  kind of variable type , variable can store the value of data type and that are classified into:\n",
    "1. Numeric type.\n",
    "2. String type.\n",
    "3. Boolean types.\n",
    "\n",
    "1.__Numeric data type__\n",
    "  * intergers (int)\n",
    "    * Integers are the numbers which represents the positive or negative whole numbers\n",
    "  * float (float)\n",
    "    * float is the real number which represents with decimal numbers\n",
    "  * complex\n",
    "    * complex numbers are real and imginary numbers.\n",
    "\n",
    "__Examples__"
   ]
  },
  {
   "cell_type": "code",
   "execution_count": 129,
   "metadata": {},
   "outputs": [
    {
     "data": {
      "text/plain": [
       "bool"
      ]
     },
     "execution_count": 129,
     "metadata": {},
     "output_type": "execute_result"
    }
   ],
   "source": [
    "\n",
    "\n",
    "\n",
    "# Number data types\n",
    "Number_integer=5\n",
    "type(Number_integer)\n",
    "\n",
    "Number_float=5.5\n",
    "type(Number_float)\n",
    "\n",
    "Number_complex=1+3j\n",
    "type(Number_complex)\n",
    "\n",
    "number=\"5\"\n",
    "type(number)\n",
    "\n",
    "\n",
    "\n",
    "a=5\n",
    "b=5\n",
    "a==b\n",
    "\n",
    "a=10\n",
    "b=11\n",
    "type(a==b)"
   ]
  },
  {
   "cell_type": "markdown",
   "metadata": {},
   "source": [
    "2. __String Data Type__\n",
    "* string (str) is collection of one or more characters it can be represented in single or double or triple inverted quoted ' ',\" \",''' '''.\n",
    "\n",
    "__Example__\n",
    "\n",
    "string_single='python for Data scienc1'\n",
    "string_double=\"python for Data science2\"\n",
    "string_triple='''Python for Data science3.'''\n",
    "\n",
    "__Boolean Data Types__\n",
    "* Booleans (bool) are the comparision data types .it compares the variable data types frequently used in conditional statemens.Booleans are two types that are \"True\" and \"False\"\n"
   ]
  },
  {
   "cell_type": "code",
   "execution_count": 130,
   "metadata": {},
   "outputs": [],
   "source": [
    "string_single='python for Data scienc1'\n",
    "string_double=\"python for Data science2\"\n",
    "string_triple='''\n",
    "This is also caleed doc string. here you can write teh exaplantions or theories\n",
    "'''"
   ]
  },
  {
   "cell_type": "code",
   "execution_count": 131,
   "metadata": {},
   "outputs": [],
   "source": [
    "# Example of the doc string\n",
    "def triangle_area(base, height):\n",
    "    \"\"\"\n",
    "    Calculate the area of a triangle.\n",
    "\n",
    "    Parameters:\n",
    "    base (float): The length of the triangle's base.\n",
    "    height (float): The height of the triangle, perpendicular to the base.\n",
    "\n",
    "    Returns:\n",
    "    float: The area of the triangle, calculated as (1/2) * base * height.\n",
    "\n",
    "    Example:\n",
    "    >>> triangle_area(6, 4)\n",
    "    12.0\n",
    "    \"\"\"\n",
    "    area = 0.5 * base * height\n",
    "    return area\n"
   ]
  },
  {
   "cell_type": "markdown",
   "metadata": {},
   "source": [
    "__Boolean Data Types__\n",
    "* Booleans (bool) are the comparision data types .it compares the variable data types frequently used in conditional statemens.Booleans are two types that are \"True\" and \"False\""
   ]
  },
  {
   "cell_type": "code",
   "execution_count": 132,
   "metadata": {},
   "outputs": [
    {
     "data": {
      "text/plain": [
       "True"
      ]
     },
     "execution_count": 132,
     "metadata": {},
     "output_type": "execute_result"
    }
   ],
   "source": [
    "a=5\n",
    "b=5\n",
    "a==b"
   ]
  },
  {
   "cell_type": "code",
   "execution_count": 133,
   "metadata": {},
   "outputs": [
    {
     "data": {
      "text/plain": [
       "bool"
      ]
     },
     "execution_count": 133,
     "metadata": {},
     "output_type": "execute_result"
    }
   ],
   "source": [
    "a=10\n",
    "b=11\n",
    "type(a==b)"
   ]
  },
  {
   "cell_type": "markdown",
   "metadata": {},
   "source": [
    "### Data Structures\n",
    "* Data structures are the collection of the data types which can store the data in the form of structure more precisely function and operations can be perform on the data.\n",
    "  *  Lists.\n",
    "  *  Tuples.\n",
    "  *  Dictionaries"
   ]
  },
  {
   "cell_type": "markdown",
   "metadata": {},
   "source": [
    "__Lists__\n",
    "1. Lists are another kind of data types it stores the elements or items.\n",
    "2. Lists are sequential and in order.\n",
    "3. Lists are mutable.\n",
    "4. list can be represents by square bracket. [ ]"
   ]
  },
  {
   "cell_type": "code",
   "execution_count": 134,
   "metadata": {},
   "outputs": [],
   "source": [
    "# list can store numeric,boolean ,string data types\n",
    "list_int=[1,2,3,5,6]\n",
    "list_str=[\"python\",\"java\",\"C\"]\n",
    "list_bool=[True,False,True]"
   ]
  },
  {
   "cell_type": "markdown",
   "metadata": {},
   "source": [
    "### Tuples\n",
    "* Tuples are used to store the multiple elements\n",
    "* Tuples are ordered.\n",
    "* Tuples are immutable.\n",
    "* it can be represented by round brackets ( )"
   ]
  },
  {
   "cell_type": "code",
   "execution_count": 135,
   "metadata": {},
   "outputs": [],
   "source": [
    "tuple_int=(1,2,3)\n",
    "tuple_str=(\"milk\",\"curd\",\"ghee\")\n",
    "tuple_bool=(True,False)"
   ]
  },
  {
   "cell_type": "markdown",
   "metadata": {},
   "source": [
    "### Dictionaries.\n",
    "* Dictionaries  are used to store the data typesin the form of pair(keys:values)\n",
    "* Dictionaries are in order.\n",
    "* Dictionaries are mutable.\n",
    "* It can be representedd by flower brackets {}\n",
    "* It can can store numeric,string ,bool data types."
   ]
  },
  {
   "cell_type": "code",
   "execution_count": 136,
   "metadata": {},
   "outputs": [
    {
     "name": "stdout",
     "output_type": "stream",
     "text": [
      "{'wild': ['lion', 'tiger', 'wolf'], 'domestic': ['dog', 'cat', 'cow'], 'forest': 'amazon'}\n"
     ]
    }
   ],
   "source": [
    "# create dictionaries through manually\n",
    "animals={\"wild\":[\"lion\",\"tiger\",\"wolf\"],\"domestic\":[\"dog\",\"cat\",\"cow\"],\"forest\":'amazon'}\n",
    "print(animals)"
   ]
  },
  {
   "cell_type": "markdown",
   "metadata": {},
   "source": [
    "#### Data types table"
   ]
  },
  {
   "cell_type": "code",
   "execution_count": 140,
   "metadata": {},
   "outputs": [],
   "source": [
    "data_types_data = {\n",
    "    'Number': ['int , float', '123 , 3.14', 'immutable'],\n",
    "    \"complex\": ['complex', '3+4j', 'immutable'],\n",
    "    \"string\": ['str', '\"Hello\"', 'immutable'],\n",
    "    \"bytes\": ['bytes', 'b\"example\"', 'immutable'],\n",
    "    \"tuple\": ['tuple', '(1, 2, 3)', 'immutable'],\n",
    "    \"frozenset\": ['frozenset', 'frozenset({1, 2, 3})', 'immutable'],\n",
    "    'boolean': ['bool', 'True , False', 'immutable'],\n",
    "    \"None Type\": ['NoneType', 'None', 'immutable'],\n",
    "    \"list\": ['list', '[1, 2, 3]', 'mutable'],\n",
    "    'set': ['set', '{1, 2, 3}', 'mutable'],\n",
    "    'dict': ['dict', '{\"key\": \"value\"}', 'mutable']\n",
    "}\n"
   ]
  },
  {
   "cell_type": "code",
   "execution_count": 141,
   "metadata": {},
   "outputs": [
    {
     "data": {
      "text/html": [
       "<div>\n",
       "<style scoped>\n",
       "    .dataframe tbody tr th:only-of-type {\n",
       "        vertical-align: middle;\n",
       "    }\n",
       "\n",
       "    .dataframe tbody tr th {\n",
       "        vertical-align: top;\n",
       "    }\n",
       "\n",
       "    .dataframe thead th {\n",
       "        text-align: right;\n",
       "    }\n",
       "</style>\n",
       "<table border=\"1\" class=\"dataframe\">\n",
       "  <thead>\n",
       "    <tr style=\"text-align: right;\">\n",
       "      <th></th>\n",
       "      <th>Number</th>\n",
       "      <th>complex</th>\n",
       "      <th>string</th>\n",
       "      <th>bytes</th>\n",
       "      <th>tuple</th>\n",
       "      <th>frozenset</th>\n",
       "      <th>boolean</th>\n",
       "      <th>None Type</th>\n",
       "      <th>list</th>\n",
       "      <th>set</th>\n",
       "      <th>dict</th>\n",
       "    </tr>\n",
       "  </thead>\n",
       "  <tbody>\n",
       "    <tr>\n",
       "      <th>0</th>\n",
       "      <td>int , float</td>\n",
       "      <td>complex</td>\n",
       "      <td>str</td>\n",
       "      <td>bytes</td>\n",
       "      <td>tuple</td>\n",
       "      <td>frozenset</td>\n",
       "      <td>bool</td>\n",
       "      <td>NoneType</td>\n",
       "      <td>list</td>\n",
       "      <td>set</td>\n",
       "      <td>dict</td>\n",
       "    </tr>\n",
       "    <tr>\n",
       "      <th>1</th>\n",
       "      <td>123 , 3.14</td>\n",
       "      <td>3+4j</td>\n",
       "      <td>\"Hello\"</td>\n",
       "      <td>b\"example\"</td>\n",
       "      <td>(1, 2, 3)</td>\n",
       "      <td>frozenset({1, 2, 3})</td>\n",
       "      <td>True , False</td>\n",
       "      <td>None</td>\n",
       "      <td>[1, 2, 3]</td>\n",
       "      <td>{1, 2, 3}</td>\n",
       "      <td>{\"key\": \"value\"}</td>\n",
       "    </tr>\n",
       "    <tr>\n",
       "      <th>2</th>\n",
       "      <td>immutable</td>\n",
       "      <td>immutable</td>\n",
       "      <td>immutable</td>\n",
       "      <td>immutable</td>\n",
       "      <td>immutable</td>\n",
       "      <td>immutable</td>\n",
       "      <td>immutable</td>\n",
       "      <td>immutable</td>\n",
       "      <td>mutable</td>\n",
       "      <td>mutable</td>\n",
       "      <td>mutable</td>\n",
       "    </tr>\n",
       "  </tbody>\n",
       "</table>\n",
       "</div>"
      ],
      "text/plain": [
       "        Number    complex     string       bytes      tuple  \\\n",
       "0  int , float    complex        str       bytes      tuple   \n",
       "1   123 , 3.14       3+4j    \"Hello\"  b\"example\"  (1, 2, 3)   \n",
       "2    immutable  immutable  immutable   immutable  immutable   \n",
       "\n",
       "              frozenset       boolean  None Type       list        set  \\\n",
       "0             frozenset          bool   NoneType       list        set   \n",
       "1  frozenset({1, 2, 3})  True , False       None  [1, 2, 3]  {1, 2, 3}   \n",
       "2             immutable     immutable  immutable    mutable    mutable   \n",
       "\n",
       "               dict  \n",
       "0              dict  \n",
       "1  {\"key\": \"value\"}  \n",
       "2           mutable  "
      ]
     },
     "execution_count": 141,
     "metadata": {},
     "output_type": "execute_result"
    }
   ],
   "source": [
    "import pandas as pd\n",
    "\n",
    "df = pd.DataFrame(data_types_data)\n",
    "df"
   ]
  },
  {
   "cell_type": "markdown",
   "metadata": {},
   "source": [
    "### Python Operators\n",
    "* Operators are used to perform operations on the variables and it whole function is to compare the operands perfroms operations on it.Operators are classified into different types.\n",
    "1. Arithmatic operators\n",
    "2. Comparision operators.\n",
    "3. Logical oprators\n",
    "4. Identity operators.\n",
    "5. Membership operators.\n",
    "6. Assignment operators"
   ]
  },
  {
   "cell_type": "markdown",
   "metadata": {},
   "source": [
    "1. __Arithmatic operators__"
   ]
  },
  {
   "cell_type": "code",
   "execution_count": 137,
   "metadata": {},
   "outputs": [
    {
     "name": "stdout",
     "output_type": "stream",
     "text": [
      "15\n",
      "-5\n",
      "50\n",
      "0.5\n",
      "5\n",
      "0\n",
      "35\n"
     ]
    }
   ],
   "source": [
    "# addition operation. \"+\"\n",
    "a=5\n",
    "b=10\n",
    "add=a+b\n",
    "print(add)\n",
    "\n",
    "# subtraction operation \"-\"\n",
    "sub=a-b\n",
    "print(a-b)\n",
    "\n",
    "# Multiplication operation \"*\"\n",
    "multipication=a*b\n",
    "print(multipication)\n",
    "\n",
    "# Division operation \"/\"\n",
    "div=a/b\n",
    "print(div)\n",
    "\n",
    "\n",
    "# modulus operation \"%\"\n",
    "modulus=a%b\n",
    "print(modulus)\n",
    "\n",
    "\n",
    "# Floor division \"//\"\n",
    "floor=a//b\n",
    "print(floor)\n",
    "\n",
    "\n",
    "# Exponential operation \"**\"\n",
    "pow=a**2+b**1\n",
    "print(pow)"
   ]
  },
  {
   "cell_type": "code",
   "execution_count": 1,
   "metadata": {},
   "outputs": [],
   "source": [
    "a  = 10 \n",
    "b = 20"
   ]
  },
  {
   "cell_type": "code",
   "execution_count": 2,
   "metadata": {},
   "outputs": [
    {
     "data": {
      "text/plain": [
       "False"
      ]
     },
     "execution_count": 2,
     "metadata": {},
     "output_type": "execute_result"
    }
   ],
   "source": [
    "a > b\n",
    "# False"
   ]
  },
  {
   "cell_type": "code",
   "execution_count": 3,
   "metadata": {},
   "outputs": [
    {
     "data": {
      "text/plain": [
       "True"
      ]
     },
     "execution_count": 3,
     "metadata": {},
     "output_type": "execute_result"
    }
   ],
   "source": [
    "a  <  b\n",
    "# True"
   ]
  },
  {
   "cell_type": "code",
   "execution_count": 5,
   "metadata": {},
   "outputs": [
    {
     "data": {
      "text/plain": [
       "True"
      ]
     },
     "execution_count": 5,
     "metadata": {},
     "output_type": "execute_result"
    }
   ],
   "source": [
    "a = 'sam'\n",
    "b = 'sam'\n",
    "\n",
    "a >= b"
   ]
  },
  {
   "cell_type": "code",
   "execution_count": 6,
   "metadata": {},
   "outputs": [
    {
     "data": {
      "text/plain": [
       "True"
      ]
     },
     "execution_count": 6,
     "metadata": {},
     "output_type": "execute_result"
    }
   ],
   "source": [
    "a <=b"
   ]
  },
  {
   "cell_type": "code",
   "execution_count": 7,
   "metadata": {},
   "outputs": [
    {
     "data": {
      "text/plain": [
       "False"
      ]
     },
     "execution_count": 7,
     "metadata": {},
     "output_type": "execute_result"
    }
   ],
   "source": [
    "a = 'sam'\n",
    "b = 'Sam'\n",
    "\n",
    "a == b"
   ]
  },
  {
   "cell_type": "code",
   "execution_count": 9,
   "metadata": {},
   "outputs": [
    {
     "data": {
      "text/plain": [
       "True"
      ]
     },
     "execution_count": 9,
     "metadata": {},
     "output_type": "execute_result"
    }
   ],
   "source": [
    "list_1 = [ 1 ,2 ,3] #3 items\n",
    "list_2 = [2 ,3 ,4 ,5 ] # 4 items\n",
    "len(list_1) < len(list_2)"
   ]
  },
  {
   "cell_type": "code",
   "execution_count": null,
   "metadata": {},
   "outputs": [],
   "source": [
    "# arithmetic operators   + , - , * ,/ ,// ,%\n",
    "# comparisional operators  > , < ,<= ,>= , ==\n",
    "# Logical operators       and , or , not\n",
    "# assignment operators    += , -= ,*= , /= \n",
    "# identity operators     is  ,is not\n",
    "# membership operators   in , not in"
   ]
  },
  {
   "cell_type": "code",
   "execution_count": 12,
   "metadata": {},
   "outputs": [
    {
     "data": {
      "text/plain": [
       "False"
      ]
     },
     "execution_count": 12,
     "metadata": {},
     "output_type": "execute_result"
    }
   ],
   "source": [
    "a = 20\n",
    "b = 25\n",
    "c = 35 \n",
    "d = 25\n",
    "\n",
    "#logical operators AND\n",
    "\n",
    "(a == b) & ( c > d) # and , &\n",
    "\n"
   ]
  },
  {
   "cell_type": "code",
   "execution_count": 14,
   "metadata": {},
   "outputs": [
    {
     "data": {
      "text/plain": [
       "True"
      ]
     },
     "execution_count": 14,
     "metadata": {},
     "output_type": "execute_result"
    }
   ],
   "source": [
    "(a == b) | ( c > d)  # or  , |"
   ]
  },
  {
   "cell_type": "code",
   "execution_count": 20,
   "metadata": {},
   "outputs": [
    {
     "data": {
      "text/plain": [
       "True"
      ]
     },
     "execution_count": 20,
     "metadata": {},
     "output_type": "execute_result"
    }
   ],
   "source": [
    "# not\n",
    "\n",
    "not(a==b)   # not or !\n",
    "\n"
   ]
  },
  {
   "cell_type": "code",
   "execution_count": 22,
   "metadata": {},
   "outputs": [
    {
     "name": "stdout",
     "output_type": "stream",
     "text": [
      "a: 21\n",
      "b: 11\n"
     ]
    }
   ],
   "source": [
    "a = 10\n",
    "b = 11\n",
    "a+=b\n",
    "\n",
    "print('a:',a)\n",
    "print('b:',b)"
   ]
  },
  {
   "cell_type": "code",
   "execution_count": 23,
   "metadata": {},
   "outputs": [
    {
     "name": "stdout",
     "output_type": "stream",
     "text": [
      "a: 10\n",
      "b: 21\n"
     ]
    }
   ],
   "source": [
    "a = 10\n",
    "b = 11\n",
    "b+=a\n",
    "\n",
    "print('a:',a)\n",
    "print('b:',b)"
   ]
  },
  {
   "cell_type": "code",
   "execution_count": 24,
   "metadata": {},
   "outputs": [
    {
     "data": {
      "text/plain": [
       "False"
      ]
     },
     "execution_count": 24,
     "metadata": {},
     "output_type": "execute_result"
    }
   ],
   "source": [
    "a = 25 \n",
    "b = 35 \n",
    "\n",
    "a is b"
   ]
  },
  {
   "cell_type": "code",
   "execution_count": 25,
   "metadata": {},
   "outputs": [
    {
     "data": {
      "text/plain": [
       "True"
      ]
     },
     "execution_count": 25,
     "metadata": {},
     "output_type": "execute_result"
    }
   ],
   "source": [
    "a is not b"
   ]
  },
  {
   "cell_type": "code",
   "execution_count": 5,
   "metadata": {},
   "outputs": [
    {
     "data": {
      "text/plain": [
       "True"
      ]
     },
     "execution_count": 5,
     "metadata": {},
     "output_type": "execute_result"
    }
   ],
   "source": [
    "list_1 = [ 2 ,3 ,4 ,5 ]  #3 items\n",
    "list_2 = [ 2 ,3 ,4 ,5 ] # 4 items\n",
    "\n",
    "3 in list_2 "
   ]
  },
  {
   "cell_type": "code",
   "execution_count": 27,
   "metadata": {},
   "outputs": [
    {
     "data": {
      "text/plain": [
       "False"
      ]
     },
     "execution_count": 27,
     "metadata": {},
     "output_type": "execute_result"
    }
   ],
   "source": [
    "list_1 = [ 1 ,2 ,3] #3 items\n",
    "list_2 = [2 ,3 ,4 ,5 ] # 4 items\n",
    "\n",
    "2 not in list_2\n"
   ]
  },
  {
   "cell_type": "markdown",
   "metadata": {},
   "source": [
    "#### Type conversion\n",
    "\n",
    "Discover how to convert between data types to ensure compatibility and accuracy in data manipulation and operations"
   ]
  },
  {
   "cell_type": "code",
   "execution_count": null,
   "metadata": {},
   "outputs": [],
   "source": [
    "# type converstion\n",
    "\n",
    "int_10 = 10\n",
    "str_10 = '10'\n",
    "\n",
    "print('----- before type converstion -----')\n",
    "print('int 10:', type(int_10)   , int_10)\n",
    "print('str_10',type(str_10) ,str_10)\n",
    "\n",
    "print('----- after type converstion ------')\n",
    "\n",
    "converted_string = str(int_10)\n",
    "converted_int = int(str_10)\n",
    "\n",
    "print('int 10:', type(converted_string)   , converted_string)\n",
    "print('str_10',type(converted_int) ,converted_int)\n",
    "\n"
   ]
  },
  {
   "cell_type": "code",
   "execution_count": null,
   "metadata": {},
   "outputs": [],
   "source": [
    "# syntax\n",
    "# while (Condition):\n",
    "    # while loop block"
   ]
  },
  {
   "cell_type": "code",
   "execution_count": null,
   "metadata": {},
   "outputs": [],
   "source": [
    "import time\n",
    "\n",
    "# start time\n",
    "start_time = time.time()\n",
    "\n",
    "# Do something that takes time\n",
    "condition = True\n",
    "\n",
    "while condition :\n",
    "       time.sleep(5)\n",
    "       end_time = time.time()\n",
    "       # interval 5 seconds + 5 + 5 + 5 + 5 = 25 seconds\n",
    "       # current time\n",
    "       elapsed_time = end_time - start_time\n",
    "       if elapsed_time > 25:\n",
    "              condition = False\n",
    "        \n",
    "       print('for every 5 seconds print hello')"
   ]
  },
  {
   "cell_type": "markdown",
   "metadata": {},
   "source": [
    "#### List Methods\n",
    "Master a range of built-in methods for list manipulation, equipping you with the skills to manage collections of data dynamically and efficiently."
   ]
  },
  {
   "cell_type": "markdown",
   "metadata": {},
   "source": [
    "APPEND  : adding element to the list "
   ]
  },
  {
   "cell_type": "code",
   "execution_count": 3,
   "metadata": {},
   "outputs": [
    {
     "data": {
      "text/plain": [
       "[1, 2, 3, 'a', 'sam']"
      ]
     },
     "execution_count": 3,
     "metadata": {},
     "output_type": "execute_result"
    }
   ],
   "source": [
    "\n",
    "append_list = [ 1 , 2, 3, \"a\"]\n",
    "append_list.append( 'sam')\n",
    "append_list"
   ]
  },
  {
   "cell_type": "code",
   "execution_count": 6,
   "metadata": {},
   "outputs": [
    {
     "data": {
      "text/plain": [
       "[1, 2, 3, 'a', 'sam', 'sam', {'key': 'value'}]"
      ]
     },
     "execution_count": 6,
     "metadata": {},
     "output_type": "execute_result"
    }
   ],
   "source": [
    "append_list_2 = [\"sam\" , {\"key\": \"value\"}]\n",
    "for ele in append_list_2:\n",
    "    append_list.append(ele)\n",
    "append_list\n"
   ]
  },
  {
   "cell_type": "markdown",
   "metadata": {},
   "source": [
    "Extend : It will add an element to the list and merge it . Then the the original list will be extended\n"
   ]
  },
  {
   "cell_type": "code",
   "execution_count": 8,
   "metadata": {},
   "outputs": [
    {
     "data": {
      "text/plain": [
       "['sam', {'key': 'value'}, 1, 2, 3, 'a']"
      ]
     },
     "execution_count": 8,
     "metadata": {},
     "output_type": "execute_result"
    }
   ],
   "source": [
    "list_1 = [\"sam\" , {\"key\": \"value\"}]\n",
    "list_2 = [ 1 , 2, 3, \"a\"] \n",
    "\n",
    "list_1.extend(list_2)\n",
    "list_1"
   ]
  },
  {
   "cell_type": "markdown",
   "metadata": {},
   "source": [
    "Insert : adding element at the position is called insert "
   ]
  },
  {
   "cell_type": "code",
   "execution_count": 13,
   "metadata": {},
   "outputs": [
    {
     "name": "stdout",
     "output_type": "stream",
     "text": [
      "index : 0 , element 1\n",
      "index : 1 , element 2\n",
      "index : 2 , element sam\n",
      "index : 3 , element 3\n",
      "index : 4 , element a\n"
     ]
    }
   ],
   "source": [
    "insert_list = [ 1 , 2, 3, \"a\" ] \n",
    "insert_list.insert(2 , \"sam\" )\n",
    "\n",
    "insert_list\n",
    "# [1, 2, 'sam', 3, 'a']\n",
    "\n",
    "for idx , ele in enumerate( insert_list ):\n",
    "    print ( f'index : {idx} , element {ele}')\n"
   ]
  },
  {
   "cell_type": "markdown",
   "metadata": {},
   "source": [
    "Remove : Removes the elements from the list , if any duplicates in the list the first occurance of the element will be removed,"
   ]
  },
  {
   "cell_type": "code",
   "execution_count": 20,
   "metadata": {},
   "outputs": [
    {
     "data": {
      "text/plain": [
       "[1, 2, 3, 2]"
      ]
     },
     "execution_count": 20,
     "metadata": {},
     "output_type": "execute_result"
    }
   ],
   "source": [
    "remove_list = [ 1 , 2, 3, \"a\" ,2 ]\n",
    " # element \n",
    "remove_list.remove(\"a\")\n",
    "remove_list\n",
    "# [1, 3, 'a', 2]"
   ]
  },
  {
   "cell_type": "markdown",
   "metadata": {},
   "source": [
    "pop : pop is used to remove the lement from the list by using position or indexing ."
   ]
  },
  {
   "cell_type": "code",
   "execution_count": 23,
   "metadata": {},
   "outputs": [
    {
     "data": {
      "text/plain": [
       "[1, 2, 3, 2]"
      ]
     },
     "execution_count": 23,
     "metadata": {},
     "output_type": "execute_result"
    }
   ],
   "source": [
    "pop_list = [ 1 , 2, 3, \"a\" ,2 ]\n",
    "pop_list.pop(3)\n",
    "pop_list\n",
    "\n",
    "# CRUD : create , read , Update , Delete"
   ]
  },
  {
   "cell_type": "markdown",
   "metadata": {},
   "source": [
    "Indexing : Get an element index by using the element "
   ]
  },
  {
   "cell_type": "code",
   "execution_count": 19,
   "metadata": {},
   "outputs": [
    {
     "name": "stdout",
     "output_type": "stream",
     "text": [
      "3\n"
     ]
    },
    {
     "data": {
      "text/plain": [
       "[1, 2, 3, 'sam', 2]"
      ]
     },
     "execution_count": 19,
     "metadata": {},
     "output_type": "execute_result"
    }
   ],
   "source": [
    "index_list = [ 1 , 2, 3, \"sam\" ,2 ]\n",
    "indexing_position = index_list.index(\"sam\")\n",
    "print(indexing_position)\n",
    "\n",
    "index_list"
   ]
  },
  {
   "cell_type": "markdown",
   "metadata": {},
   "source": [
    "COUNT : count returns the number of occurrebnces in the list elements"
   ]
  },
  {
   "cell_type": "code",
   "execution_count": 7,
   "metadata": {},
   "outputs": [
    {
     "data": {
      "text/plain": [
       "{'1': 1, '2': 2, '3': 1, 'sam': 1}"
      ]
     },
     "execution_count": 7,
     "metadata": {},
     "output_type": "execute_result"
    }
   ],
   "source": [
    "count_list = [1, 2, 3, 'sam', 2]\n",
    "count_list.count('sam')\n",
    "dict_ = { }\n",
    "\n",
    "for ele in count_list:\n",
    "    dict_[str(ele)] = count_list.count(ele)\n",
    "\n",
    "dict_\n"
   ]
  },
  {
   "cell_type": "markdown",
   "metadata": {},
   "source": [
    "SORT: This method sorts the elements of the list in ascending order by default. It can take an optional argument (reverse=True) to sort in descending order."
   ]
  },
  {
   "cell_type": "code",
   "execution_count": 17,
   "metadata": {},
   "outputs": [
    {
     "data": {
      "text/plain": [
       "[0, 1, 2, 3, 3]"
      ]
     },
     "execution_count": 17,
     "metadata": {},
     "output_type": "execute_result"
    }
   ],
   "source": [
    "sort_list = [1,0, 2, 3, 3 ]\n",
    "sort_list.sort()\n",
    "sort_list"
   ]
  },
  {
   "cell_type": "markdown",
   "metadata": {},
   "source": [
    "REVERSE:  This method reverses the order of elements in the list."
   ]
  },
  {
   "cell_type": "code",
   "execution_count": 20,
   "metadata": {},
   "outputs": [
    {
     "data": {
      "text/plain": [
       "[0.5, 'sam', 3, 3, 2, 0, 1]"
      ]
     },
     "execution_count": 20,
     "metadata": {},
     "output_type": "execute_result"
    }
   ],
   "source": [
    "reverse_list = [1,0, 2, 3, 3 ,\"sam\" , 0.5]\n",
    "reverse_list.reverse()\n",
    "reverse_list"
   ]
  },
  {
   "cell_type": "code",
   "execution_count": null,
   "metadata": {},
   "outputs": [],
   "source": [
    "uncleared_list = [ 1 , 2 , 3, 4]\n",
    "uncleared_list.clear()\n",
    "uncleared_list"
   ]
  },
  {
   "cell_type": "markdown",
   "metadata": {},
   "source": [
    "#### Shallow copy vs Deep copy\n",
    "\n",
    "Techniques for duplicating objects. Shallow copies reference original objects, while deep copies create new independent objects.\n",
    "Understand the implications of copying data structures and memory management."
   ]
  },
  {
   "cell_type": "code",
   "execution_count": null,
   "metadata": {},
   "outputs": [],
   "source": [
    "import copy\n",
    "\n",
    "original_obj = [ \"sam1\" , \"ram 2\" , \"joe 3\"]\n",
    "print('orginal object',original_obj)\n",
    "\n",
    "\n",
    "shallow_copy = copy.copy( original_obj)\n",
    "print('copied object ', shallow_copy)\n",
    "\n",
    "deep_copy = copy.deepcopy(original_obj)\n",
    "original_obj[0] = 'x'\n",
    "\n",
    "print('modification on orginal object' , original_obj)\n",
    "\n",
    "print('copied object' , shallow_copy)\n",
    "print('----shallow copy-----')\n",
    "print(original_obj)\n",
    "print(shallow_copy)\n",
    "\n",
    "print('---- deep copy -----')\n",
    "print(original_obj)\n",
    "original_obj[2] =  'new element'\n",
    "print(original_obj)\n",
    "\n",
    "\n"
   ]
  },
  {
   "cell_type": "markdown",
   "metadata": {},
   "source": [
    "#### F-strings (Formatted String Literals):\n",
    "\n",
    "Introduced in Python 3.6, f-strings allow for embedding expressions inside string literals, prefixed with an f or F. This makes the syntax cleaner and more readable."
   ]
  },
  {
   "cell_type": "code",
   "execution_count": null,
   "metadata": {},
   "outputs": [],
   "source": [
    "# 1. string interpolation\n",
    "\n",
    "name  = 'ram'\n",
    "work_as  =  'Software Engineer' \n",
    "\n",
    "\n",
    "sentence = f'my name is {name} working as {work_as}'\n",
    "sentence"
   ]
  },
  {
   "cell_type": "markdown",
   "metadata": {},
   "source": [
    "#### str.format() Method:\n",
    "\n",
    "Introduced in Python 2.7, this method allows more flexibility than the old-style formatting. You can use curly braces {} as placeholders in the string, which are replaced by the arguments passed to the format() method."
   ]
  },
  {
   "cell_type": "code",
   "execution_count": null,
   "metadata": {},
   "outputs": [],
   "source": [
    "# string formating\n",
    "\n",
    "name  = 'ram'\n",
    "work_as  =  'Software Engineer' \n",
    "sentence =  'my name is {} working as {} ' .format( name , work_as)\n",
    "print(sentence)"
   ]
  },
  {
   "cell_type": "markdown",
   "metadata": {},
   "source": [
    "#### Old-style String Formatting (% Operator):\n",
    "\n",
    "\n",
    "This method uses the % operator to format strings. It involves specifying placeholders within the string and providing the corresponding values as a tuple."
   ]
  },
  {
   "cell_type": "code",
   "execution_count": null,
   "metadata": {},
   "outputs": [],
   "source": [
    "# formatting  %\n",
    "\n",
    "name  = 'ram'\n",
    "work_as  =  'Software Engineer' \n",
    "sentence =  'my name is %s working as %s '%( work_as , work_as)\n",
    "\n",
    "print(sentence)"
   ]
  }
 ],
 "metadata": {
  "kernelspec": {
   "display_name": "Python 3",
   "language": "python",
   "name": "python3"
  },
  "language_info": {
   "codemirror_mode": {
    "name": "ipython",
    "version": 3
   },
   "file_extension": ".py",
   "mimetype": "text/x-python",
   "name": "python",
   "nbconvert_exporter": "python",
   "pygments_lexer": "ipython3",
   "version": "3.9.6"
  }
 },
 "nbformat": 4,
 "nbformat_minor": 2
}
