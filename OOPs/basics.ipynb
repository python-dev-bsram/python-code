{
 "cells": [
  {
   "cell_type": "code",
   "execution_count": null,
   "metadata": {},
   "outputs": [],
   "source": []
  },
  {
   "cell_type": "markdown",
   "metadata": {},
   "source": [
    "##### What is OOP?\n",
    "\n",
    "OOP stands for Object-Oriented Programming. It helps in organizing code so it can be easily scaled and maintained by creating objects. An object is just an instance of a class, The class defines what data (attributes) and actions (methods) the object will have.\n",
    "\n",
    "- Attributes are variables that hold data related to the object, and we can access them using a dot (.).\n",
    "- Methods are functions inside the class that define what the object can do.\n",
    "- Properties are a way to control how we get or set the values of attributes, often with some extra logic added."
   ]
  },
  {
   "cell_type": "code",
   "execution_count": 2,
   "metadata": {},
   "outputs": [],
   "source": [
    "# syntax of creating class and object\n",
    "\n",
    "class Example: # creating the class \n",
    "    pass \n",
    "\n",
    "Object = Example() # Initializing the object"
   ]
  },
  {
   "cell_type": "markdown",
   "metadata": {},
   "source": [
    "Example of how to create the Attributes, Methods and and properties. Lets take the  `Smartphone`  as example where it associated with the `characteristics`(attriutes) like `brand`,`model`,`_battery_level` and can have `actions` like `call`, `capture_photo` as methods. As we make the call generally the charging will be decreased thats where need to update `_battery_level` (property). \n"
   ]
  },
  {
   "cell_type": "markdown",
   "metadata": {},
   "source": [
    "##### creating the attributes"
   ]
  },
  {
   "cell_type": "code",
   "execution_count": 8,
   "metadata": {},
   "outputs": [],
   "source": [
    "class SmartPhoneAttributtes:\n",
    "\n",
    "    # Attributes of the smart phone\n",
    "    def __init__(self, brand, model):\n",
    "        self.brand = brand \n",
    "        self.model = model \n",
    "        self._battery_level = 100"
   ]
  },
  {
   "cell_type": "markdown",
   "metadata": {},
   "source": [
    "##### Defining the Methods."
   ]
  },
  {
   "cell_type": "code",
   "execution_count": 22,
   "metadata": {},
   "outputs": [],
   "source": [
    "class SmartPhoneMethods(SmartPhoneAttributtes):\n",
    "\n",
    "    # functions of smart phone\n",
    "    def call(self, number):\n",
    "\n",
    "        self._battery_level -= 5 # Making a call reduces the battery level\n",
    "        return f\"Calling to {number}, from {self.model}\"\n",
    "    \n",
    "    def take_photo(self):  # Method\n",
    "\n",
    "        self._battery_level -= 0.05  # Taking a photo reduces the battery level\n",
    "        return f\"Taking a photo with {self.model}\""
   ]
  },
  {
   "cell_type": "markdown",
   "metadata": {},
   "source": [
    "##### Set the Property"
   ]
  },
  {
   "cell_type": "code",
   "execution_count": 23,
   "metadata": {},
   "outputs": [],
   "source": [
    "class SmartPhoneProperties(SmartPhoneMethods):\n",
    "\n",
    "    @property\n",
    "    def battery_level(self):  #property\n",
    "        return self._battery_level  # Gets the current battery level"
   ]
  },
  {
   "cell_type": "code",
   "execution_count": 24,
   "metadata": {},
   "outputs": [
    {
     "data": {
      "text/plain": [
       "95"
      ]
     },
     "execution_count": 24,
     "metadata": {},
     "output_type": "execute_result"
    }
   ],
   "source": [
    "# Example of usage:\n",
    "\n",
    "phone = SmartPhoneProperties(\"LAVA\",\"Agni 2\")  # SmartPhoneProperties --> SmartPhoneMethods --> SmartPhoneAttributtes\n",
    "phone.brand # Accessing an attribute (Output: LAVA)\n",
    "phone.call(\"123-456-7890\") # Calling a method (Output: Calling to 123-456-7890, from Agni 2)\n",
    "phone.battery_level # Using a property to access battery level (Output: 95)"
   ]
  },
  {
   "cell_type": "markdown",
   "metadata": {},
   "source": [
    "##### Another way of organizing code"
   ]
  },
  {
   "cell_type": "code",
   "execution_count": 25,
   "metadata": {},
   "outputs": [],
   "source": [
    "class SmartPhone:\n",
    "\n",
    "    # Attributes of the smart phone\n",
    "    def __init__(self, brand, model):\n",
    "        self.brand = brand \n",
    "        self.model = model \n",
    "        self._battery_level = 100\n",
    "\n",
    "    # functions of smart phone\n",
    "    def call(self, number):\n",
    "\n",
    "        self._battery_level -= 5 # Making a call reduces the battery level\n",
    "        return f\"Calling to {number}, from {self.model}\"\n",
    "    \n",
    "    def take_photo(self):  # Method\n",
    "\n",
    "        self._battery_level -= 0.05  # Taking a photo reduces the battery level\n",
    "        return f\"Taking a photo with {self.model}\"\n",
    "    \n",
    "    @property\n",
    "    def battery_level(self):  #property\n",
    "        return self._battery_level  # Gets the current battery level\n"
   ]
  },
  {
   "cell_type": "code",
   "execution_count": 26,
   "metadata": {},
   "outputs": [
    {
     "data": {
      "text/plain": [
       "95"
      ]
     },
     "execution_count": 26,
     "metadata": {},
     "output_type": "execute_result"
    }
   ],
   "source": [
    "# Example of usage:\n",
    "\n",
    "phone = SmartPhone(\"LAVA\",\"Agni 2\")  \n",
    "phone.brand # Accessing an attribute (Output: LAVA)\n",
    "phone.call(\"123-456-7890\") # Calling a method (Output: Calling to 123-456-7890, from Agni 2)\n",
    "phone.battery_level # Using a property to access battery level (Output: 95)"
   ]
  }
 ],
 "metadata": {
  "kernelspec": {
   "display_name": "Python 3",
   "language": "python",
   "name": "python3"
  },
  "language_info": {
   "codemirror_mode": {
    "name": "ipython",
    "version": 3
   },
   "file_extension": ".py",
   "mimetype": "text/x-python",
   "name": "python",
   "nbconvert_exporter": "python",
   "pygments_lexer": "ipython3",
   "version": "3.9.6"
  }
 },
 "nbformat": 4,
 "nbformat_minor": 2
}
